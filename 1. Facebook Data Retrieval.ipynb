{
 "cells": [
  {
   "cell_type": "markdown",
   "id": "c7e09e17",
   "metadata": {},
   "source": [
    "# Facebook data retrieval\n",
    "\n",
    "This small notebook was used to gather the needed information for the main part of the project.\n",
    "\n",
    "### What kind of data do we need?\n",
    "\n",
    "For our problem we would like to have some data about the events: how many people said they were going, how many people were interested, the date of the facebook event creation and date of the event. What would also help in order to estimate how much does promoting the event help is to get all the posts related to it.\n",
    "\n",
    "### How do we get the data?\n",
    "\n",
    "After some (hopefully) rigurous research, it has been revealed that there is no 'easy way', to just use a library. We had to use the Facebook Graph API. To do this, we had to register our account as a developer and follow along some steps (taken from tutorials found on google). After a while, we found that what we needed were the **feed** and **event** edges.\n",
    "We have also used **tagged** and **visitor_posts** edges to further get some statistics about the page."
   ]
  },
  {
   "cell_type": "code",
   "execution_count": 1,
   "id": "667c8172",
   "metadata": {},
   "outputs": [],
   "source": [
    "import requests\n",
    "import json\n",
    "import os"
   ]
  },
  {
   "cell_type": "markdown",
   "id": "64c34355",
   "metadata": {},
   "source": [
    "Useful documentation: \\\n",
    "https://developers.facebook.com/docs/graph-api/reference/v13.0/post \\\n",
    "https://developers.facebook.com/docs/graph-api/reference/event \\\n",
    "https://developers.facebook.com/docs/graph-api/results \\\n",
    "https://developers.facebook.com/docs/graph-api/reference/v13.0/page \\\n",
    "https://developers.facebook.com/docs/graph-api/reference/page/visitor_posts \\\n",
    "https://developers.facebook.com/docs/graph-api/reference/page/tagged "
   ]
  },
  {
   "cell_type": "code",
   "execution_count": 3,
   "id": "28d90aa9",
   "metadata": {},
   "outputs": [
    {
     "name": "stdout",
     "output_type": "stream",
     "text": [
      "[WinError 183] Cannot create a file when that file already exists: 'data'\n"
     ]
    }
   ],
   "source": [
    "# Create data folder if it does not exist\n",
    "data_folder = \"data\"\n",
    "\n",
    "try: \n",
    "    os.mkdir(data_folder) \n",
    "except OSError as error: \n",
    "    print(error)"
   ]
  },
  {
   "cell_type": "code",
   "execution_count": 103,
   "id": "319ad293",
   "metadata": {},
   "outputs": [],
   "source": [
    "access_token = \"access_token\"\n",
    "access_token_field = \"access_token=\" + access_token\n",
    "# Set number of returned elements limit to maximum allowed by API\n",
    "limit_token_field = \"limit=100\"\n",
    "\n",
    "events_api_gate = \"https://graph.facebook.com/v13.0/1581916451935422/events\"\n",
    "events_api_fields = \"fields=id,attending_count,created_time,interested_count,name,noreply_count,place{name},start_time\"\n",
    "events_url = events_api_gate + \"?\" + events_api_fields + \"&\" + access_token_field + \"&\" + limit_token_field\n",
    "\n",
    "feed_api_gate = \"https://graph.facebook.com/v13.0/1581916451935422/feed\"\n",
    "feed_api_fields = \"fields=id,created_time,is_popular,message,status_type,shares\"\n",
    "feed_url = feed_api_gate + \"?\" + feed_api_fields + \"&\" + access_token_field + \"&\" + limit_token_field\n",
    "\n",
    "tagged_api_gate = \"https://graph.facebook.com/v13.0/1581916451935422/tagged\"\n",
    "tagged_api_fields = \"fields=id,message,tagged_time,from,status_type,story\"\n",
    "tagged_url = tagged_api_gate + \"?\" + tagged_api_fields + \"&\" + access_token_field + \"&\" + limit_token_field\n",
    "\n",
    "visitor_posts_api_gate = \"https://graph.facebook.com/v13.0/1581916451935422/visitor_posts\"\n",
    "visitor_posts_api_fields = \"fields=id,message,created_time,status_type,story\"\n",
    "visitor_posts_url = visitor_posts_api_gate + \"?\" + visitor_posts_api_fields + \"&\" + access_token_field + \"&\" + limit_token_field"
   ]
  },
  {
   "cell_type": "code",
   "execution_count": 5,
   "id": "a15ce696",
   "metadata": {},
   "outputs": [],
   "source": [
    "def read_all_entries(url):\n",
    "    \"\"\"\n",
    "    Read all the entries from a given facebook API url.\n",
    "    Returned facebook data can be either in full (if it does not exceed a certain number) \n",
    "    or paged (limited to a number of entries per page).\n",
    "    \"\"\"\n",
    "    all_entries = []\n",
    "    is_done = False\n",
    "    \n",
    "    while not is_done:\n",
    "        r = requests.get(url)\n",
    "        # Append entries on page to entries we want to store\n",
    "        all_entries = all_entries + r.json()['data']\n",
    "        if 'next' in r.json()['paging']:\n",
    "            url = r.json()['paging']['next']\n",
    "        else:\n",
    "            is_done = True\n",
    "    \n",
    "    return all_entries   \n",
    "    \n",
    "\n",
    "def preprocess_events(events):\n",
    "    \"\"\"\n",
    "    For all the events store only place name, instead of a json containing pace_id and place_name.\n",
    "    \"\"\"\n",
    "    for event in events:\n",
    "        place_name = event['place']['name']\n",
    "        event['place'] = place_name\n",
    "    return events\n",
    "\n",
    "def preprocess_feed(feed_posts):\n",
    "    \"\"\"\n",
    "    For all the feed post store only share count, if available.\n",
    "    \"\"\"\n",
    "    for feed_post in feed_posts:\n",
    "        if 'shares' in feed_post:\n",
    "            share_count = feed_post['shares']['count']\n",
    "            feed_post['shares'] = share_count\n",
    "    return feed_posts\n",
    "\n",
    "def write_to_file(folder_name, file_name, entries):\n",
    "    \"\"\"\n",
    "    Function to write json entries nicely, so they can be easily read.\n",
    "    \"\"\"\n",
    "    output_file = open(folder_name + \"\\\\\" + file_name, 'w')\n",
    "    json.dump(entries, output_file, indent=4)\n",
    "    "
   ]
  },
  {
   "cell_type": "markdown",
   "id": "b5a20807",
   "metadata": {},
   "source": [
    "For further reference, to get number of likes of a facebook 'object'(i.e. event or post):\n",
    "https://developers.facebook.com/docs/graph-api/reference/v13.0/object/reactions"
   ]
  },
  {
   "cell_type": "code",
   "execution_count": 105,
   "id": "d04d926f",
   "metadata": {},
   "outputs": [],
   "source": [
    "def retrieve_like_count(post_id, access_token_field):\n",
    "    \"\"\"\n",
    "    Return the number of likes for a certain post.\n",
    "    \"\"\"\n",
    "    url = \"https://graph.facebook.com/v13.0/\" + post_id + \"?fields=reactions.summary(total_count)\" + \"&\" + access_token_field\n",
    "    r = requests.get(url)\n",
    "    if 'reactions' in r.json():\n",
    "        return r.json()['reactions']['summary']['total_count']\n",
    "    else:\n",
    "        print(r.json())\n",
    "        return 0\n",
    "\n",
    "def retrieve_like_counts_for_posts(feed_posts, access_token_field):\n",
    "    \"\"\"\n",
    "    Retrieve the number of likes for given feed_posts, using the access_token_id and add them to the feed_posts\n",
    "    in a field called 'likes'\n",
    "    \"\"\"\n",
    "    for feed_post in feed_posts:\n",
    "        number_of_likes = retrieve_like_count(feed_post['id'], access_token_field)\n",
    "        feed_post['likes'] = number_of_likes\n",
    "    return feed_posts"
   ]
  },
  {
   "cell_type": "code",
   "execution_count": 106,
   "id": "4ab6c3ad",
   "metadata": {},
   "outputs": [],
   "source": [
    "# Gather all event data\n",
    "event_entries = read_all_entries(events_url)\n",
    "event_entries = preprocess_events(event_entries)\n",
    "write_to_file(\"event_entries.json\", event_entries)"
   ]
  },
  {
   "cell_type": "code",
   "execution_count": 107,
   "id": "8c572c1f",
   "metadata": {},
   "outputs": [
    {
     "data": {
      "text/plain": [
       "[{'id': '2758405671134506',\n",
       "  'attending_count': 5,\n",
       "  'created_time': '2022-03-14T16:07:33+0000',\n",
       "  'interested_count': 34,\n",
       "  'name': 'Unscripted - Începători - Program de dezvoltare prin improvizație',\n",
       "  'noreply_count': 690,\n",
       "  'place': 'Centrul de Voluntariat Cluj-Napoca',\n",
       "  'start_time': '2022-03-30T18:30:00+0300'},\n",
       " {'id': '875247883267346',\n",
       "  'attending_count': 6,\n",
       "  'created_time': '2022-03-14T16:29:47+0000',\n",
       "  'interested_count': 11,\n",
       "  'name': 'UnscriptED - Avansați - Program de dezvoltare prin improvizație',\n",
       "  'noreply_count': 42,\n",
       "  'place': 'Centrul de Voluntariat Cluj-Napoca',\n",
       "  'start_time': '2022-03-28T18:30:00+0300'}]"
      ]
     },
     "execution_count": 107,
     "metadata": {},
     "output_type": "execute_result"
    }
   ],
   "source": [
    "event_entries[1:3]"
   ]
  },
  {
   "cell_type": "code",
   "execution_count": 108,
   "id": "1bbd9d85",
   "metadata": {},
   "outputs": [
    {
     "name": "stdout",
     "output_type": "stream",
     "text": [
      "{'id': '1581916451935422_2411050642255166'}\n"
     ]
    }
   ],
   "source": [
    "# Gather all feed data\n",
    "feed_entries = read_all_entries(feed_url)\n",
    "feed_entries = preprocess_feed(feed_entries)\n",
    "feed_entries = retrieve_like_counts_for_posts(feed_entries, access_token_field)\n",
    "write_to_file('feed_entries.json', feed_entries)"
   ]
  },
  {
   "cell_type": "code",
   "execution_count": 109,
   "id": "fdc0d53a",
   "metadata": {},
   "outputs": [
    {
     "data": {
      "text/plain": [
       "[{'id': '1581916451935422_977906799511742',\n",
       "  'created_time': '2022-04-05T18:14:02+0000',\n",
       "  'is_popular': False,\n",
       "  'status_type': 'created_event',\n",
       "  'likes': 9},\n",
       " {'id': '1581916451935422_4774228602704175',\n",
       "  'created_time': '2022-04-05T09:16:26+0000',\n",
       "  'is_popular': False,\n",
       "  'message': 'Stați tunați că vine și evenimentul. În curând. Nu doar la final de săptămână...',\n",
       "  'status_type': 'added_photos',\n",
       "  'shares': 3,\n",
       "  'likes': 20}]"
      ]
     },
     "execution_count": 109,
     "metadata": {},
     "output_type": "execute_result"
    }
   ],
   "source": [
    "feed_entries[1:3]"
   ]
  },
  {
   "cell_type": "code",
   "execution_count": 110,
   "id": "2ce798fc",
   "metadata": {},
   "outputs": [],
   "source": [
    "def preprocess_tagged(tagged_posts):\n",
    "    \"\"\"\n",
    "    For all entries in tagged_posts store only 'name' field of 'from' field of the entry.\n",
    "    If there is no 'from' field present in entry, assume the post is _Internal_.\n",
    "    \"\"\"\n",
    "    for tagged_post in tagged_posts:\n",
    "        if 'from' in tagged_post:\n",
    "            from_value = tagged_post['from']['name']\n",
    "            tagged_post['from'] = from_value\n",
    "        else:\n",
    "            tagged_post['from'] = 'Internal'\n",
    "    return tagged_posts"
   ]
  },
  {
   "cell_type": "code",
   "execution_count": 111,
   "id": "1f1bdba9",
   "metadata": {},
   "outputs": [],
   "source": [
    "# Gather all tagged posts data\n",
    "tagged_entries = read_all_entries(tagged_url)\n",
    "tagged_entries = preprocess_tagged(tagged_entries)\n",
    "write_to_file('tagged_entries.json', tagged_entries)"
   ]
  },
  {
   "cell_type": "code",
   "execution_count": 112,
   "id": "50a4f04c",
   "metadata": {},
   "outputs": [],
   "source": [
    "# Gather all visitor posts data\n",
    "visitor_posts_entries = read_all_entries(visitor_posts_url)\n",
    "write_to_file('visitor_posts_entries.json', visitor_posts_entries)"
   ]
  }
 ],
 "metadata": {
  "kernelspec": {
   "display_name": "Python 3 (ipykernel)",
   "language": "python",
   "name": "python3"
  },
  "language_info": {
   "codemirror_mode": {
    "name": "ipython",
    "version": 3
   },
   "file_extension": ".py",
   "mimetype": "text/x-python",
   "name": "python",
   "nbconvert_exporter": "python",
   "pygments_lexer": "ipython3",
   "version": "3.9.7"
  }
 },
 "nbformat": 4,
 "nbformat_minor": 5
}
